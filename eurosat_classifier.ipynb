{
  "nbformat": 4,
  "nbformat_minor": 0,
  "metadata": {
    "colab": {
      "provenance": [],
      "authorship_tag": "ABX9TyOrp3mjG5KVc5On+NNqlyCp",
      "include_colab_link": true
    },
    "kernelspec": {
      "name": "python3",
      "display_name": "Python 3"
    },
    "language_info": {
      "name": "python"
    }
  },
  "cells": [
    {
      "cell_type": "markdown",
      "metadata": {
        "id": "view-in-github",
        "colab_type": "text"
      },
      "source": [
        "<a href=\"https://colab.research.google.com/github/AbuRayhan71/eurosat-landcover-classification/blob/main/eurosat_classifier.ipynb\" target=\"_parent\"><img src=\"https://colab.research.google.com/assets/colab-badge.svg\" alt=\"Open In Colab\"/></a>"
      ]
    },
    {
      "cell_type": "markdown",
      "source": [],
      "metadata": {
        "id": "JaURSHPw4Gdr"
      }
    },
    {
      "cell_type": "markdown",
      "source": [
        "# 🛰️ EuroSAT Land Cover Classification with CNN\n",
        "\n",
        "## 📌 Project Description\n",
        "This notebook demonstrates a complete deep learning workflow to classify land use and land cover from satellite images using the EuroSAT dataset. This project is designed to show my ability to handle geospatial data, build a deep learning pipeline using TensorFlow, and deploy real-world models.\n",
        "\n",
        "---\n",
        "\n",
        "## 📁 Table of Contents\n",
        "1. [Import Libraries](#1)\n",
        "2. [Load EuroSAT Dataset](#2)\n",
        "3. [Visualize Sample Images](#3)\n",
        "4. [Preprocess Data](#4)\n",
        "5. [Build CNN Model](#5)\n",
        "6. [Train the Model](#6)\n",
        "7. [Evaluate the Model](#7)\n",
        "8. [Save & Export Model](#8)\n",
        "9. [Next Steps: Deployment](#9)\n",
        "\n",
        "---\n",
        "\n",
        "## 🔧 Setup\n",
        "- Python (Google Colab)\n",
        "- TensorFlow/Keras\n",
        "- TensorFlow Datasets (`tfds`)\n",
        "- Matplotlib & Seaborn\n"
      ],
      "metadata": {
        "id": "_VFXY9EP4HI6"
      }
    },
    {
      "cell_type": "code",
      "source": [
        "# 1. Import Libraries\n",
        "import tensorflow as tf\n",
        "import tensorflow_datasets as tfds\n",
        "import matplotlib.pyplot as plt\n",
        "import numpy as np\n"
      ],
      "metadata": {
        "id": "ufZ-8r5E4XcN"
      },
      "execution_count": 1,
      "outputs": []
    }
  ]
}